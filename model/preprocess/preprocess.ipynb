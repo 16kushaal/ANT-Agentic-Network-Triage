{
 "cells": [
  {
   "cell_type": "code",
   "execution_count": 7,
   "id": "01294569",
   "metadata": {},
   "outputs": [],
   "source": [
    "import os\n",
    "import pandas as pd\n",
    "\n",
    "DATA_PATH = \"../data\"   # <-- change to your actual path\n",
    "OUTPUT_PATH = '../data/combined_realistic.csv'"
   ]
  },
  {
   "cell_type": "code",
   "execution_count": 4,
   "id": "40079844",
   "metadata": {},
   "outputs": [
    {
     "name": "stdout",
     "output_type": "stream",
     "text": [
      "Found 9 CSV files\n",
      "Loading: 02-14-2018.csv\n",
      "Loading: 02-15-2018.csv\n",
      "Loading: 02-16-2018.csv\n",
      "Loading: 02-21-2018.csv\n",
      "Loading: 02-22-2018.csv\n",
      "Loading: 02-23-2018.csv\n",
      "Loading: 02-28-2018.csv\n",
      "Loading: 03-01-2018.csv\n",
      "Loading: 03-02-2018.csv\n"
     ]
    }
   ],
   "source": [
    "# Only keep these realistic/common classes\n",
    "KEEP_LABELS = [\n",
    "    'Benign',\n",
    "    'SSH-Bruteforce',\n",
    "    'FTP-BruteForce',\n",
    "    'DoS attacks-Hulk',\n",
    "    'DoS attacks-SlowHTTPTest',\n",
    "    'DDOS attack-HOIC',\n",
    "    'Bot',\n",
    "    'Infilteration'\n",
    "]\n",
    "\n",
    "def get_file_paths(data_path):\n",
    "    \"\"\"Get all CSV file paths except the corrupted one\"\"\"\n",
    "    file_paths = []\n",
    "    for root, _, filenames in os.walk(data_path):\n",
    "        for filename in filenames:\n",
    "            if filename.endswith('.csv'):\n",
    "                file_paths.append(os.path.join(root, filename))\n",
    "    # remove the corrupted file\n",
    "    bad_file = os.path.join(DATA_PATH, '02-20-2018.csv')\n",
    "    if bad_file in file_paths:\n",
    "        file_paths.remove(bad_file)\n",
    "    return sorted(file_paths)\n",
    "\n",
    "# Get file paths\n",
    "file_paths = get_file_paths(DATA_PATH)\n",
    "print(f\"Found {len(file_paths)} CSV files\")\n",
    "\n",
    "# Read + clean + combine\n",
    "df_list = []\n",
    "for file_path in file_paths:\n",
    "    print(f\"Loading: {os.path.basename(file_path)}\")\n",
    "    chunk = pd.read_csv(file_path, low_memory=False)\n",
    "\n",
    "    # Drop timestamp if exists\n",
    "    chunk = chunk.drop(columns=['Timestamp'], errors='ignore')\n",
    "\n",
    "    # Remove header rows accidentally read as data\n",
    "    chunk = chunk[chunk['Label'] != 'Label']\n",
    "\n",
    "    # Keep only relevant labels\n",
    "    chunk = chunk[chunk['Label'].isin(KEEP_LABELS)]\n",
    "\n",
    "    df_list.append(chunk)"
   ]
  },
  {
   "cell_type": "code",
   "execution_count": 5,
   "id": "a211e318",
   "metadata": {},
   "outputs": [
    {
     "name": "stdout",
     "output_type": "stream",
     "text": [
      "✅ Combined dataset shape: (8229039, 79)\n",
      "💾 Final realistic dataset saved to: ../combined_realistic.csv\n",
      "\n",
      "📊 Class distribution:\n",
      "Label\n",
      "Benign                      6112151\n",
      "DDOS attack-HOIC             686012\n",
      "DoS attacks-Hulk             461912\n",
      "Bot                          286191\n",
      "FTP-BruteForce               193360\n",
      "SSH-Bruteforce               187589\n",
      "Infilteration                161934\n",
      "DoS attacks-SlowHTTPTest     139890\n",
      "Name: count, dtype: int64\n"
     ]
    }
   ],
   "source": [
    "# # Combine all dataframes\n",
    "combined_df = pd.concat(df_list, ignore_index=True)\n",
    "print(f\"✅ Combined dataset shape: {combined_df.shape}\")\n",
    "\n",
    "# Save to CSV\n",
    "os.makedirs(os.path.dirname(OUTPUT_PATH), exist_ok=True)\n",
    "combined_df.to_csv(OUTPUT_PATH, index=False)\n",
    "print(f\"💾 Final realistic dataset saved to: {OUTPUT_PATH}\")\n",
    "\n",
    "# Quick distribution check\n",
    "print(\"\\n📊 Class distribution:\")\n",
    "print(combined_df['Label'].value_counts())"
   ]
  },
  {
   "cell_type": "code",
   "execution_count": 8,
   "id": "db28bfa7",
   "metadata": {},
   "outputs": [
    {
     "name": "stdout",
     "output_type": "stream",
     "text": [
      "💽 Saved file size: 2.66 GB\n"
     ]
    }
   ],
   "source": [
    "# Check saved file size\n",
    "file_size_gb = os.path.getsize(OUTPUT_PATH) / (1024 ** 3)\n",
    "print(f\"💽 Saved file size: {file_size_gb:.2f} GB\")"
   ]
  }
 ],
 "metadata": {
  "kernelspec": {
   "display_name": ".venv (3.11.4)",
   "language": "python",
   "name": "python3"
  },
  "language_info": {
   "codemirror_mode": {
    "name": "ipython",
    "version": 3
   },
   "file_extension": ".py",
   "mimetype": "text/x-python",
   "name": "python",
   "nbconvert_exporter": "python",
   "pygments_lexer": "ipython3",
   "version": "3.11.4"
  }
 },
 "nbformat": 4,
 "nbformat_minor": 5
}
